{
 "cells": [
  {
   "cell_type": "markdown",
   "source": "# Linear regression\nHere I will apply a regression algorithm in python, base on the following ecuation:\n* The simple linear regression ecuation:\n### y = $$ b_0 + b_1x       $$       (1)\n* Then we can calculate $b_0$ with the following:\n### $b_1$ = $$ \\sum_{i=1}^N \\frac{(x_i - x_{mean})(y_i - y_{mean})}{(x_i - x_{mean})^2}  $$ (2) ",
   "metadata": {
    "tags": [],
    "cell_id": "00000-275b1563-00c4-4ef5-bffe-2e55e2817276",
    "deepnote_cell_type": "markdown"
   }
  },
  {
   "cell_type": "code",
   "metadata": {
    "tags": [],
    "cell_id": "00000-b8fd48b7-0177-4c3d-99ba-df4d8d46f9a8",
    "deepnote_to_be_reexecuted": false,
    "source_hash": "a0759be6",
    "execution_start": 1625353157189,
    "execution_millis": 423,
    "deepnote_cell_type": "code"
   },
   "source": "import numpy as np\nimport matplotlib.pyplot as plt  #import modules",
   "execution_count": 1,
   "outputs": []
  },
  {
   "cell_type": "markdown",
   "source": "Now we create a function to find $b_0$ and $b_1$",
   "metadata": {
    "tags": [],
    "cell_id": "00002-a27d6828-4fa2-4caa-81dd-75b5ec44c7d1",
    "deepnote_cell_type": "markdown"
   }
  },
  {
   "cell_type": "code",
   "source": "def estimate_b0_b1(x,y):\n    n = np.size(x)        #to count the array length\n\n    mean_x, mean_y = np.mean(x), np.mean(y)  #to calculate the mean of each variable\n    suma_xy = np.sum((x - mean_x)*(y - mean_y)) #calculate sum of each variable xx and yy numerator from ecuation 2\n    suma_xx = np.sum((x - mean_x)**2) #calculate sum of each from denominator from ecuation 2\n\n    b_1 = suma_xy/suma_xx                     #coeficient of regression b1\n    b_0 = mean_y - (b_1 * mean_x)             #coeficient of regression b0\n    \n    return (b_0, b_1)",
   "metadata": {
    "tags": [],
    "cell_id": "00003-ecd6ca83-b93c-416e-8962-15dcba130f90",
    "deepnote_to_be_reexecuted": false,
    "source_hash": "56bbd3ba",
    "execution_start": 1625356163708,
    "execution_millis": 7,
    "deepnote_cell_type": "code"
   },
   "outputs": [],
   "execution_count": 10
  },
  {
   "cell_type": "markdown",
   "source": "Now we can create the function to graph the simple linear regression",
   "metadata": {
    "tags": [],
    "cell_id": "00004-ec907fd8-f071-48e9-b854-942f8030a641",
    "deepnote_cell_type": "markdown"
   }
  },
  {
   "cell_type": "code",
   "source": "def plot_regression(x,y,b):         #function to graph\n    plt.scatter(x, y, color = 'g', marker = 'o', s = 30)  #we make the scatter plot\n\n    y_pred = b[0] + b[1]*x     #regression line ecuation 1\n    plt.plot(x, y_pred, color = 'b') #this code graph the regression line\n\n    plt.xlabel('x-independet') #we tagged\n    plt.ylabel('y-dependet')\n\n    plt.show()",
   "metadata": {
    "tags": [],
    "cell_id": "00004-61a28a6f-39cc-487f-af48-10af89551088",
    "deepnote_to_be_reexecuted": false,
    "source_hash": "84bf8c7b",
    "execution_start": 1625355481745,
    "execution_millis": 1,
    "deepnote_cell_type": "code"
   },
   "outputs": [],
   "execution_count": 5
  },
  {
   "cell_type": "markdown",
   "source": "Now we create the main function",
   "metadata": {
    "tags": [],
    "cell_id": "00006-d1724ded-95a5-464a-ad25-fcd2a9bb688d",
    "deepnote_cell_type": "markdown"
   }
  },
  {
   "cell_type": "code",
   "source": "def main():\n    x = np.array([1,2,3,4,5]) ##our data set \n    y = np.array([2,3,5,6,5])\n\n    b = estimate_b0_b1(x,y)            #we obtain b1 and b0\n    print(f'The values are for b_0= {b[0]} and b1 = {b[1]}')\n\n    plot_regression(x, y, b)          #finally we call the function to draw the regression figure\n\nif __name__ == '__main__':\n    main()",
   "metadata": {
    "tags": [],
    "cell_id": "00007-15447d61-0739-46da-a77f-f51964443277",
    "deepnote_to_be_reexecuted": false,
    "source_hash": "72491b92",
    "execution_start": 1625356217403,
    "execution_millis": 356,
    "deepnote_cell_type": "code"
   },
   "outputs": [
    {
     "name": "stdout",
     "text": "The values are for b_0= 1.5 and b1 = 0.9\n",
     "output_type": "stream"
    },
    {
     "data": {
      "text/plain": "<Figure size 432x288 with 1 Axes>",
      "image/png": "[encoded data removed]"
     },
     "metadata": {
      "needs_background": "light",
      "image/png": {
       "width": 386,
       "height": 262
      }
     },
     "output_type": "display_data"
    }
   ],
   "execution_count": 12
  },
  {
   "cell_type": "markdown",
   "source": "<a style='text-decoration:none;line-height:16px;display:flex;color:#5B5B62;padding:10px;justify-content:end;' href='https://deepnote.com?utm_source=created-in-deepnote-cell&projectId=424eb29a-9b1a-4710-ac74-6a7107ff22a0' target=\"_blank\">\n<img alt='Created in deepnote.com' style='display:inline;max-height:16px;margin:0px;margin-right:7.5px;' src='data:image/svg+xml;base64,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' > </img>\nCreated in <span style='font-weight:600;margin-left:4px;'>Deepnote</span></a>",
   "metadata": {
    "tags": [],
    "created_in_deepnote_cell": true,
    "deepnote_cell_type": "markdown"
   }
  }
 ],
 "nbformat": 4,
 "nbformat_minor": 2,
 "metadata": {
  "orig_nbformat": 2,
  "deepnote": {
   "is_reactive": false
  },
  "deepnote_notebook_id": "e7ec5560-0299-4a6e-ae3e-add3d592f607",
  "deepnote_execution_queue": []
 }
}